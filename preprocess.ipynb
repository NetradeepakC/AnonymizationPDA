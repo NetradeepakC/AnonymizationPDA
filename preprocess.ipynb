{
 "cells": [
  {
   "cell_type": "markdown",
   "metadata": {},
   "source": [
    "## Importing CSV"
   ]
  },
  {
   "cell_type": "code",
   "execution_count": 1,
   "metadata": {},
   "outputs": [
    {
     "name": "stderr",
     "output_type": "stream",
     "text": [
      "/tmp/ipykernel_51983/910976448.py:3: DtypeWarning: Columns (5) have mixed types. Specify dtype option on import or set low_memory=False.\n",
      "  df=pd.read_csv('./assets/export.csv')\n"
     ]
    },
    {
     "data": {
      "text/html": [
       "<div>\n",
       "<style scoped>\n",
       "    .dataframe tbody tr th:only-of-type {\n",
       "        vertical-align: middle;\n",
       "    }\n",
       "\n",
       "    .dataframe tbody tr th {\n",
       "        vertical-align: top;\n",
       "    }\n",
       "\n",
       "    .dataframe thead th {\n",
       "        text-align: right;\n",
       "    }\n",
       "</style>\n",
       "<table border=\"1\" class=\"dataframe\">\n",
       "  <thead>\n",
       "    <tr style=\"text-align: right;\">\n",
       "      <th></th>\n",
       "      <th>user_id</th>\n",
       "      <th>age</th>\n",
       "      <th>sex</th>\n",
       "      <th>country</th>\n",
       "      <th>checkin_date</th>\n",
       "      <th>trackable_id</th>\n",
       "      <th>trackable_type</th>\n",
       "      <th>trackable_name</th>\n",
       "      <th>trackable_value</th>\n",
       "    </tr>\n",
       "  </thead>\n",
       "  <tbody>\n",
       "    <tr>\n",
       "      <th>0</th>\n",
       "      <td>QEVuQwEABlEzkh7fsBBjEe26RyIVcg==</td>\n",
       "      <td>NaN</td>\n",
       "      <td>NaN</td>\n",
       "      <td>NaN</td>\n",
       "      <td>2015-11-26</td>\n",
       "      <td>1069</td>\n",
       "      <td>Condition</td>\n",
       "      <td>Ulcerative colitis</td>\n",
       "      <td>0</td>\n",
       "    </tr>\n",
       "    <tr>\n",
       "      <th>1</th>\n",
       "      <td>QEVuQwEAWRNGnuTRqXG2996KSkTIEw==</td>\n",
       "      <td>32.0</td>\n",
       "      <td>male</td>\n",
       "      <td>US</td>\n",
       "      <td>2015-11-26</td>\n",
       "      <td>1069</td>\n",
       "      <td>Condition</td>\n",
       "      <td>Ulcerative colitis</td>\n",
       "      <td>0</td>\n",
       "    </tr>\n",
       "    <tr>\n",
       "      <th>2</th>\n",
       "      <td>QEVuQwEA+WkNxtp/qkHvN2YmTBBDqg==</td>\n",
       "      <td>2.0</td>\n",
       "      <td>female</td>\n",
       "      <td>CA</td>\n",
       "      <td>2017-04-28</td>\n",
       "      <td>3168</td>\n",
       "      <td>Condition</td>\n",
       "      <td>pain in left upper arm felt like i was getting...</td>\n",
       "      <td>4</td>\n",
       "    </tr>\n",
       "    <tr>\n",
       "      <th>3</th>\n",
       "      <td>QEVuQwEA+WkNxtp/qkHvN2YmTBBDqg==</td>\n",
       "      <td>2.0</td>\n",
       "      <td>female</td>\n",
       "      <td>CA</td>\n",
       "      <td>2017-04-28</td>\n",
       "      <td>3169</td>\n",
       "      <td>Condition</td>\n",
       "      <td>hip pain when gettin up</td>\n",
       "      <td>3</td>\n",
       "    </tr>\n",
       "    <tr>\n",
       "      <th>4</th>\n",
       "      <td>QEVuQwEA+WkNxtp/qkHvN2YmTBBDqg==</td>\n",
       "      <td>2.0</td>\n",
       "      <td>female</td>\n",
       "      <td>CA</td>\n",
       "      <td>2017-04-28</td>\n",
       "      <td>3170</td>\n",
       "      <td>Condition</td>\n",
       "      <td>pain in hand joints</td>\n",
       "      <td>4</td>\n",
       "    </tr>\n",
       "    <tr>\n",
       "      <th>...</th>\n",
       "      <td>...</td>\n",
       "      <td>...</td>\n",
       "      <td>...</td>\n",
       "      <td>...</td>\n",
       "      <td>...</td>\n",
       "      <td>...</td>\n",
       "      <td>...</td>\n",
       "      <td>...</td>\n",
       "      <td>...</td>\n",
       "    </tr>\n",
       "    <tr>\n",
       "      <th>7976218</th>\n",
       "      <td>QEVuQwEAtlfm8VyoxZ9biWjDHb74gQ==</td>\n",
       "      <td>22.0</td>\n",
       "      <td>female</td>\n",
       "      <td>GB</td>\n",
       "      <td>2019-12-04</td>\n",
       "      <td>1</td>\n",
       "      <td>Tag</td>\n",
       "      <td>tired</td>\n",
       "      <td>NaN</td>\n",
       "    </tr>\n",
       "    <tr>\n",
       "      <th>7976219</th>\n",
       "      <td>QEVuQwEAtlfm8VyoxZ9biWjDHb74gQ==</td>\n",
       "      <td>22.0</td>\n",
       "      <td>female</td>\n",
       "      <td>GB</td>\n",
       "      <td>2019-12-04</td>\n",
       "      <td>2</td>\n",
       "      <td>Tag</td>\n",
       "      <td>stressed</td>\n",
       "      <td>NaN</td>\n",
       "    </tr>\n",
       "    <tr>\n",
       "      <th>7976220</th>\n",
       "      <td>QEVuQwEAtlfm8VyoxZ9biWjDHb74gQ==</td>\n",
       "      <td>22.0</td>\n",
       "      <td>female</td>\n",
       "      <td>GB</td>\n",
       "      <td>2019-12-04</td>\n",
       "      <td>9002</td>\n",
       "      <td>Food</td>\n",
       "      <td>soup</td>\n",
       "      <td>NaN</td>\n",
       "    </tr>\n",
       "    <tr>\n",
       "      <th>7976221</th>\n",
       "      <td>QEVuQwEAtlfm8VyoxZ9biWjDHb74gQ==</td>\n",
       "      <td>22.0</td>\n",
       "      <td>female</td>\n",
       "      <td>GB</td>\n",
       "      <td>2019-12-04</td>\n",
       "      <td>9139</td>\n",
       "      <td>Food</td>\n",
       "      <td>yogurt</td>\n",
       "      <td>NaN</td>\n",
       "    </tr>\n",
       "    <tr>\n",
       "      <th>7976222</th>\n",
       "      <td>QEVuQwEAtlfm8VyoxZ9biWjDHb74gQ==</td>\n",
       "      <td>22.0</td>\n",
       "      <td>female</td>\n",
       "      <td>GB</td>\n",
       "      <td>2019-12-04</td>\n",
       "      <td>10260</td>\n",
       "      <td>Food</td>\n",
       "      <td>granola</td>\n",
       "      <td>NaN</td>\n",
       "    </tr>\n",
       "  </tbody>\n",
       "</table>\n",
       "<p>7976223 rows × 9 columns</p>\n",
       "</div>"
      ],
      "text/plain": [
       "                                  user_id   age     sex country checkin_date  \\\n",
       "0        QEVuQwEABlEzkh7fsBBjEe26RyIVcg==   NaN     NaN     NaN   2015-11-26   \n",
       "1        QEVuQwEAWRNGnuTRqXG2996KSkTIEw==  32.0    male      US   2015-11-26   \n",
       "2        QEVuQwEA+WkNxtp/qkHvN2YmTBBDqg==   2.0  female      CA   2017-04-28   \n",
       "3        QEVuQwEA+WkNxtp/qkHvN2YmTBBDqg==   2.0  female      CA   2017-04-28   \n",
       "4        QEVuQwEA+WkNxtp/qkHvN2YmTBBDqg==   2.0  female      CA   2017-04-28   \n",
       "...                                   ...   ...     ...     ...          ...   \n",
       "7976218  QEVuQwEAtlfm8VyoxZ9biWjDHb74gQ==  22.0  female      GB   2019-12-04   \n",
       "7976219  QEVuQwEAtlfm8VyoxZ9biWjDHb74gQ==  22.0  female      GB   2019-12-04   \n",
       "7976220  QEVuQwEAtlfm8VyoxZ9biWjDHb74gQ==  22.0  female      GB   2019-12-04   \n",
       "7976221  QEVuQwEAtlfm8VyoxZ9biWjDHb74gQ==  22.0  female      GB   2019-12-04   \n",
       "7976222  QEVuQwEAtlfm8VyoxZ9biWjDHb74gQ==  22.0  female      GB   2019-12-04   \n",
       "\n",
       "        trackable_id trackable_type  \\\n",
       "0               1069      Condition   \n",
       "1               1069      Condition   \n",
       "2               3168      Condition   \n",
       "3               3169      Condition   \n",
       "4               3170      Condition   \n",
       "...              ...            ...   \n",
       "7976218            1            Tag   \n",
       "7976219            2            Tag   \n",
       "7976220         9002           Food   \n",
       "7976221         9139           Food   \n",
       "7976222        10260           Food   \n",
       "\n",
       "                                            trackable_name trackable_value  \n",
       "0                                       Ulcerative colitis               0  \n",
       "1                                       Ulcerative colitis               0  \n",
       "2        pain in left upper arm felt like i was getting...               4  \n",
       "3                                  hip pain when gettin up               3  \n",
       "4                                      pain in hand joints               4  \n",
       "...                                                    ...             ...  \n",
       "7976218                                              tired             NaN  \n",
       "7976219                                           stressed             NaN  \n",
       "7976220                                               soup             NaN  \n",
       "7976221                                             yogurt             NaN  \n",
       "7976222                                            granola             NaN  \n",
       "\n",
       "[7976223 rows x 9 columns]"
      ]
     },
     "execution_count": 1,
     "metadata": {},
     "output_type": "execute_result"
    }
   ],
   "source": [
    "import pandas as pd\n",
    "import numpy as np\n",
    "df=pd.read_csv('./assets/export.csv')\n",
    "df"
   ]
  },
  {
   "cell_type": "markdown",
   "metadata": {},
   "source": [
    "## Drop NULL values"
   ]
  },
  {
   "cell_type": "code",
   "execution_count": 2,
   "metadata": {},
   "outputs": [],
   "source": [
    "df.dropna(inplace=True)"
   ]
  },
  {
   "cell_type": "code",
   "execution_count": 3,
   "metadata": {},
   "outputs": [
    {
     "data": {
      "text/plain": [
       "array(['0', '4', '3', ..., '10mg + 1mL', 'tried predilisone',\n",
       "       '1 patch (12 hours)'], dtype=object)"
      ]
     },
     "execution_count": 3,
     "metadata": {},
     "output_type": "execute_result"
    }
   ],
   "source": [
    "df['trackable_value'].unique()\n"
   ]
  },
  {
   "cell_type": "markdown",
   "metadata": {},
   "source": [
    "## Drop Weather values"
   ]
  },
  {
   "cell_type": "code",
   "execution_count": 4,
   "metadata": {},
   "outputs": [],
   "source": [
    "df.drop(df[df['trackable_type'] == 'Weather'].index, inplace=True)"
   ]
  },
  {
   "cell_type": "markdown",
   "metadata": {},
   "source": [
    "## Dropping Senseless data"
   ]
  },
  {
   "cell_type": "code",
   "execution_count": 5,
   "metadata": {},
   "outputs": [],
   "source": [
    "df.drop(df[df['age'] < 0].index, inplace=True)\n",
    "df.drop(df[df['age'] > 100].index, inplace=True)"
   ]
  },
  {
   "cell_type": "code",
   "execution_count": 6,
   "metadata": {},
   "outputs": [
    {
     "data": {
      "text/html": [
       "<div>\n",
       "<style scoped>\n",
       "    .dataframe tbody tr th:only-of-type {\n",
       "        vertical-align: middle;\n",
       "    }\n",
       "\n",
       "    .dataframe tbody tr th {\n",
       "        vertical-align: top;\n",
       "    }\n",
       "\n",
       "    .dataframe thead th {\n",
       "        text-align: right;\n",
       "    }\n",
       "</style>\n",
       "<table border=\"1\" class=\"dataframe\">\n",
       "  <thead>\n",
       "    <tr style=\"text-align: right;\">\n",
       "      <th></th>\n",
       "      <th>age</th>\n",
       "    </tr>\n",
       "  </thead>\n",
       "  <tbody>\n",
       "    <tr>\n",
       "      <th>count</th>\n",
       "      <td>5.257100e+06</td>\n",
       "    </tr>\n",
       "    <tr>\n",
       "      <th>mean</th>\n",
       "      <td>3.491319e+01</td>\n",
       "    </tr>\n",
       "    <tr>\n",
       "      <th>std</th>\n",
       "      <td>1.161035e+01</td>\n",
       "    </tr>\n",
       "    <tr>\n",
       "      <th>min</th>\n",
       "      <td>0.000000e+00</td>\n",
       "    </tr>\n",
       "    <tr>\n",
       "      <th>25%</th>\n",
       "      <td>2.600000e+01</td>\n",
       "    </tr>\n",
       "    <tr>\n",
       "      <th>50%</th>\n",
       "      <td>3.400000e+01</td>\n",
       "    </tr>\n",
       "    <tr>\n",
       "      <th>75%</th>\n",
       "      <td>4.200000e+01</td>\n",
       "    </tr>\n",
       "    <tr>\n",
       "      <th>max</th>\n",
       "      <td>9.900000e+01</td>\n",
       "    </tr>\n",
       "  </tbody>\n",
       "</table>\n",
       "</div>"
      ],
      "text/plain": [
       "                age\n",
       "count  5.257100e+06\n",
       "mean   3.491319e+01\n",
       "std    1.161035e+01\n",
       "min    0.000000e+00\n",
       "25%    2.600000e+01\n",
       "50%    3.400000e+01\n",
       "75%    4.200000e+01\n",
       "max    9.900000e+01"
      ]
     },
     "execution_count": 6,
     "metadata": {},
     "output_type": "execute_result"
    }
   ],
   "source": [
    "df.describe()"
   ]
  },
  {
   "cell_type": "markdown",
   "metadata": {},
   "source": [
    "## Making uniform datatypes"
   ]
  },
  {
   "cell_type": "code",
   "execution_count": 7,
   "metadata": {},
   "outputs": [
    {
     "data": {
      "text/html": [
       "<div>\n",
       "<style scoped>\n",
       "    .dataframe tbody tr th:only-of-type {\n",
       "        vertical-align: middle;\n",
       "    }\n",
       "\n",
       "    .dataframe tbody tr th {\n",
       "        vertical-align: top;\n",
       "    }\n",
       "\n",
       "    .dataframe thead th {\n",
       "        text-align: right;\n",
       "    }\n",
       "</style>\n",
       "<table border=\"1\" class=\"dataframe\">\n",
       "  <thead>\n",
       "    <tr style=\"text-align: right;\">\n",
       "      <th></th>\n",
       "      <th>user_id</th>\n",
       "      <th>age</th>\n",
       "      <th>sex</th>\n",
       "      <th>country</th>\n",
       "      <th>checkin_date</th>\n",
       "      <th>trackable_id</th>\n",
       "      <th>trackable_type</th>\n",
       "      <th>trackable_name</th>\n",
       "      <th>trackable_value</th>\n",
       "    </tr>\n",
       "  </thead>\n",
       "  <tbody>\n",
       "    <tr>\n",
       "      <th>65536</th>\n",
       "      <td>QEVuQwEAz87of+x9qlsQYMmMClFRGg==</td>\n",
       "      <td>38.0</td>\n",
       "      <td>female</td>\n",
       "      <td>DE</td>\n",
       "      <td>2015-06-24</td>\n",
       "      <td>152</td>\n",
       "      <td>Symptom</td>\n",
       "      <td>Nausea</td>\n",
       "      <td>1</td>\n",
       "    </tr>\n",
       "    <tr>\n",
       "      <th>65537</th>\n",
       "      <td>QEVuQwEAz87of+x9qlsQYMmMClFRGg==</td>\n",
       "      <td>38.0</td>\n",
       "      <td>female</td>\n",
       "      <td>DE</td>\n",
       "      <td>2015-06-24</td>\n",
       "      <td>243</td>\n",
       "      <td>Symptom</td>\n",
       "      <td>Stomach Pain</td>\n",
       "      <td>3</td>\n",
       "    </tr>\n",
       "    <tr>\n",
       "      <th>65538</th>\n",
       "      <td>QEVuQwEAz87of+x9qlsQYMmMClFRGg==</td>\n",
       "      <td>38.0</td>\n",
       "      <td>female</td>\n",
       "      <td>DE</td>\n",
       "      <td>2015-06-19</td>\n",
       "      <td>220</td>\n",
       "      <td>Condition</td>\n",
       "      <td>Chronic fatigue syndrome</td>\n",
       "      <td>3</td>\n",
       "    </tr>\n",
       "    <tr>\n",
       "      <th>65539</th>\n",
       "      <td>QEVuQwEAz87of+x9qlsQYMmMClFRGg==</td>\n",
       "      <td>38.0</td>\n",
       "      <td>female</td>\n",
       "      <td>DE</td>\n",
       "      <td>2015-06-19</td>\n",
       "      <td>561</td>\n",
       "      <td>Condition</td>\n",
       "      <td>Irritable bowel syndrome</td>\n",
       "      <td>0</td>\n",
       "    </tr>\n",
       "    <tr>\n",
       "      <th>65540</th>\n",
       "      <td>QEVuQwEAz87of+x9qlsQYMmMClFRGg==</td>\n",
       "      <td>38.0</td>\n",
       "      <td>female</td>\n",
       "      <td>DE</td>\n",
       "      <td>2015-06-19</td>\n",
       "      <td>1153</td>\n",
       "      <td>Condition</td>\n",
       "      <td>Dysautonomia</td>\n",
       "      <td>3</td>\n",
       "    </tr>\n",
       "    <tr>\n",
       "      <th>...</th>\n",
       "      <td>...</td>\n",
       "      <td>...</td>\n",
       "      <td>...</td>\n",
       "      <td>...</td>\n",
       "      <td>...</td>\n",
       "      <td>...</td>\n",
       "      <td>...</td>\n",
       "      <td>...</td>\n",
       "      <td>...</td>\n",
       "    </tr>\n",
       "    <tr>\n",
       "      <th>7976213</th>\n",
       "      <td>QEVuQwEAtlfm8VyoxZ9biWjDHb74gQ==</td>\n",
       "      <td>22.0</td>\n",
       "      <td>female</td>\n",
       "      <td>GB</td>\n",
       "      <td>2019-12-04</td>\n",
       "      <td>3368</td>\n",
       "      <td>Symptom</td>\n",
       "      <td>difficulty getting up</td>\n",
       "      <td>4</td>\n",
       "    </tr>\n",
       "    <tr>\n",
       "      <th>7976214</th>\n",
       "      <td>QEVuQwEAtlfm8VyoxZ9biWjDHb74gQ==</td>\n",
       "      <td>22.0</td>\n",
       "      <td>female</td>\n",
       "      <td>GB</td>\n",
       "      <td>2019-12-04</td>\n",
       "      <td>153</td>\n",
       "      <td>Symptom</td>\n",
       "      <td>Neck pain</td>\n",
       "      <td>2</td>\n",
       "    </tr>\n",
       "    <tr>\n",
       "      <th>7976215</th>\n",
       "      <td>QEVuQwEAtlfm8VyoxZ9biWjDHb74gQ==</td>\n",
       "      <td>22.0</td>\n",
       "      <td>female</td>\n",
       "      <td>GB</td>\n",
       "      <td>2019-12-04</td>\n",
       "      <td>242</td>\n",
       "      <td>Symptom</td>\n",
       "      <td>Fatigue</td>\n",
       "      <td>3</td>\n",
       "    </tr>\n",
       "    <tr>\n",
       "      <th>7976216</th>\n",
       "      <td>QEVuQwEAtlfm8VyoxZ9biWjDHb74gQ==</td>\n",
       "      <td>22.0</td>\n",
       "      <td>female</td>\n",
       "      <td>GB</td>\n",
       "      <td>2019-12-04</td>\n",
       "      <td>1026</td>\n",
       "      <td>Symptom</td>\n",
       "      <td>Poor concentration</td>\n",
       "      <td>3</td>\n",
       "    </tr>\n",
       "    <tr>\n",
       "      <th>7976217</th>\n",
       "      <td>QEVuQwEAtlfm8VyoxZ9biWjDHb74gQ==</td>\n",
       "      <td>22.0</td>\n",
       "      <td>female</td>\n",
       "      <td>GB</td>\n",
       "      <td>2019-12-04</td>\n",
       "      <td>30924</td>\n",
       "      <td>Symptom</td>\n",
       "      <td>poor productivity</td>\n",
       "      <td>3</td>\n",
       "    </tr>\n",
       "  </tbody>\n",
       "</table>\n",
       "<p>2249607 rows × 9 columns</p>\n",
       "</div>"
      ],
      "text/plain": [
       "                                  user_id   age     sex country checkin_date  \\\n",
       "65536    QEVuQwEAz87of+x9qlsQYMmMClFRGg==  38.0  female      DE   2015-06-24   \n",
       "65537    QEVuQwEAz87of+x9qlsQYMmMClFRGg==  38.0  female      DE   2015-06-24   \n",
       "65538    QEVuQwEAz87of+x9qlsQYMmMClFRGg==  38.0  female      DE   2015-06-19   \n",
       "65539    QEVuQwEAz87of+x9qlsQYMmMClFRGg==  38.0  female      DE   2015-06-19   \n",
       "65540    QEVuQwEAz87of+x9qlsQYMmMClFRGg==  38.0  female      DE   2015-06-19   \n",
       "...                                   ...   ...     ...     ...          ...   \n",
       "7976213  QEVuQwEAtlfm8VyoxZ9biWjDHb74gQ==  22.0  female      GB   2019-12-04   \n",
       "7976214  QEVuQwEAtlfm8VyoxZ9biWjDHb74gQ==  22.0  female      GB   2019-12-04   \n",
       "7976215  QEVuQwEAtlfm8VyoxZ9biWjDHb74gQ==  22.0  female      GB   2019-12-04   \n",
       "7976216  QEVuQwEAtlfm8VyoxZ9biWjDHb74gQ==  22.0  female      GB   2019-12-04   \n",
       "7976217  QEVuQwEAtlfm8VyoxZ9biWjDHb74gQ==  22.0  female      GB   2019-12-04   \n",
       "\n",
       "        trackable_id trackable_type            trackable_name trackable_value  \n",
       "65536            152        Symptom                    Nausea               1  \n",
       "65537            243        Symptom              Stomach Pain               3  \n",
       "65538            220      Condition  Chronic fatigue syndrome               3  \n",
       "65539            561      Condition  Irritable bowel syndrome               0  \n",
       "65540           1153      Condition              Dysautonomia               3  \n",
       "...              ...            ...                       ...             ...  \n",
       "7976213         3368        Symptom     difficulty getting up               4  \n",
       "7976214          153        Symptom                 Neck pain               2  \n",
       "7976215          242        Symptom                   Fatigue               3  \n",
       "7976216         1026        Symptom        Poor concentration               3  \n",
       "7976217        30924        Symptom         poor productivity               3  \n",
       "\n",
       "[2249607 rows x 9 columns]"
      ]
     },
     "execution_count": 7,
     "metadata": {},
     "output_type": "execute_result"
    }
   ],
   "source": [
    "# df.trackable_id = df.trackable_id.astype('int64')\n",
    "df=df[df.trackable_id.apply(lambda x: (type(x)==int))]\n",
    "df"
   ]
  },
  {
   "cell_type": "markdown",
   "metadata": {},
   "source": [
    "## Reduce dataset"
   ]
  },
  {
   "cell_type": "code",
   "execution_count": 8,
   "metadata": {},
   "outputs": [],
   "source": [
    "# df=df.loc[1:100000]"
   ]
  },
  {
   "cell_type": "markdown",
   "metadata": {},
   "source": [
    "## Show dataframe"
   ]
  },
  {
   "cell_type": "code",
   "execution_count": 9,
   "metadata": {},
   "outputs": [
    {
     "data": {
      "text/html": [
       "<div>\n",
       "<style scoped>\n",
       "    .dataframe tbody tr th:only-of-type {\n",
       "        vertical-align: middle;\n",
       "    }\n",
       "\n",
       "    .dataframe tbody tr th {\n",
       "        vertical-align: top;\n",
       "    }\n",
       "\n",
       "    .dataframe thead th {\n",
       "        text-align: right;\n",
       "    }\n",
       "</style>\n",
       "<table border=\"1\" class=\"dataframe\">\n",
       "  <thead>\n",
       "    <tr style=\"text-align: right;\">\n",
       "      <th></th>\n",
       "      <th>user_id</th>\n",
       "      <th>age</th>\n",
       "      <th>sex</th>\n",
       "      <th>country</th>\n",
       "      <th>checkin_date</th>\n",
       "      <th>trackable_id</th>\n",
       "      <th>trackable_type</th>\n",
       "      <th>trackable_name</th>\n",
       "      <th>trackable_value</th>\n",
       "    </tr>\n",
       "  </thead>\n",
       "  <tbody>\n",
       "    <tr>\n",
       "      <th>65536</th>\n",
       "      <td>QEVuQwEAz87of+x9qlsQYMmMClFRGg==</td>\n",
       "      <td>38.0</td>\n",
       "      <td>female</td>\n",
       "      <td>DE</td>\n",
       "      <td>2015-06-24</td>\n",
       "      <td>152</td>\n",
       "      <td>Symptom</td>\n",
       "      <td>Nausea</td>\n",
       "      <td>1</td>\n",
       "    </tr>\n",
       "    <tr>\n",
       "      <th>65537</th>\n",
       "      <td>QEVuQwEAz87of+x9qlsQYMmMClFRGg==</td>\n",
       "      <td>38.0</td>\n",
       "      <td>female</td>\n",
       "      <td>DE</td>\n",
       "      <td>2015-06-24</td>\n",
       "      <td>243</td>\n",
       "      <td>Symptom</td>\n",
       "      <td>Stomach Pain</td>\n",
       "      <td>3</td>\n",
       "    </tr>\n",
       "    <tr>\n",
       "      <th>65538</th>\n",
       "      <td>QEVuQwEAz87of+x9qlsQYMmMClFRGg==</td>\n",
       "      <td>38.0</td>\n",
       "      <td>female</td>\n",
       "      <td>DE</td>\n",
       "      <td>2015-06-19</td>\n",
       "      <td>220</td>\n",
       "      <td>Condition</td>\n",
       "      <td>Chronic fatigue syndrome</td>\n",
       "      <td>3</td>\n",
       "    </tr>\n",
       "    <tr>\n",
       "      <th>65539</th>\n",
       "      <td>QEVuQwEAz87of+x9qlsQYMmMClFRGg==</td>\n",
       "      <td>38.0</td>\n",
       "      <td>female</td>\n",
       "      <td>DE</td>\n",
       "      <td>2015-06-19</td>\n",
       "      <td>561</td>\n",
       "      <td>Condition</td>\n",
       "      <td>Irritable bowel syndrome</td>\n",
       "      <td>0</td>\n",
       "    </tr>\n",
       "    <tr>\n",
       "      <th>65540</th>\n",
       "      <td>QEVuQwEAz87of+x9qlsQYMmMClFRGg==</td>\n",
       "      <td>38.0</td>\n",
       "      <td>female</td>\n",
       "      <td>DE</td>\n",
       "      <td>2015-06-19</td>\n",
       "      <td>1153</td>\n",
       "      <td>Condition</td>\n",
       "      <td>Dysautonomia</td>\n",
       "      <td>3</td>\n",
       "    </tr>\n",
       "    <tr>\n",
       "      <th>...</th>\n",
       "      <td>...</td>\n",
       "      <td>...</td>\n",
       "      <td>...</td>\n",
       "      <td>...</td>\n",
       "      <td>...</td>\n",
       "      <td>...</td>\n",
       "      <td>...</td>\n",
       "      <td>...</td>\n",
       "      <td>...</td>\n",
       "    </tr>\n",
       "    <tr>\n",
       "      <th>7976213</th>\n",
       "      <td>QEVuQwEAtlfm8VyoxZ9biWjDHb74gQ==</td>\n",
       "      <td>22.0</td>\n",
       "      <td>female</td>\n",
       "      <td>GB</td>\n",
       "      <td>2019-12-04</td>\n",
       "      <td>3368</td>\n",
       "      <td>Symptom</td>\n",
       "      <td>difficulty getting up</td>\n",
       "      <td>4</td>\n",
       "    </tr>\n",
       "    <tr>\n",
       "      <th>7976214</th>\n",
       "      <td>QEVuQwEAtlfm8VyoxZ9biWjDHb74gQ==</td>\n",
       "      <td>22.0</td>\n",
       "      <td>female</td>\n",
       "      <td>GB</td>\n",
       "      <td>2019-12-04</td>\n",
       "      <td>153</td>\n",
       "      <td>Symptom</td>\n",
       "      <td>Neck pain</td>\n",
       "      <td>2</td>\n",
       "    </tr>\n",
       "    <tr>\n",
       "      <th>7976215</th>\n",
       "      <td>QEVuQwEAtlfm8VyoxZ9biWjDHb74gQ==</td>\n",
       "      <td>22.0</td>\n",
       "      <td>female</td>\n",
       "      <td>GB</td>\n",
       "      <td>2019-12-04</td>\n",
       "      <td>242</td>\n",
       "      <td>Symptom</td>\n",
       "      <td>Fatigue</td>\n",
       "      <td>3</td>\n",
       "    </tr>\n",
       "    <tr>\n",
       "      <th>7976216</th>\n",
       "      <td>QEVuQwEAtlfm8VyoxZ9biWjDHb74gQ==</td>\n",
       "      <td>22.0</td>\n",
       "      <td>female</td>\n",
       "      <td>GB</td>\n",
       "      <td>2019-12-04</td>\n",
       "      <td>1026</td>\n",
       "      <td>Symptom</td>\n",
       "      <td>Poor concentration</td>\n",
       "      <td>3</td>\n",
       "    </tr>\n",
       "    <tr>\n",
       "      <th>7976217</th>\n",
       "      <td>QEVuQwEAtlfm8VyoxZ9biWjDHb74gQ==</td>\n",
       "      <td>22.0</td>\n",
       "      <td>female</td>\n",
       "      <td>GB</td>\n",
       "      <td>2019-12-04</td>\n",
       "      <td>30924</td>\n",
       "      <td>Symptom</td>\n",
       "      <td>poor productivity</td>\n",
       "      <td>3</td>\n",
       "    </tr>\n",
       "  </tbody>\n",
       "</table>\n",
       "<p>2249607 rows × 9 columns</p>\n",
       "</div>"
      ],
      "text/plain": [
       "                                  user_id   age     sex country checkin_date  \\\n",
       "65536    QEVuQwEAz87of+x9qlsQYMmMClFRGg==  38.0  female      DE   2015-06-24   \n",
       "65537    QEVuQwEAz87of+x9qlsQYMmMClFRGg==  38.0  female      DE   2015-06-24   \n",
       "65538    QEVuQwEAz87of+x9qlsQYMmMClFRGg==  38.0  female      DE   2015-06-19   \n",
       "65539    QEVuQwEAz87of+x9qlsQYMmMClFRGg==  38.0  female      DE   2015-06-19   \n",
       "65540    QEVuQwEAz87of+x9qlsQYMmMClFRGg==  38.0  female      DE   2015-06-19   \n",
       "...                                   ...   ...     ...     ...          ...   \n",
       "7976213  QEVuQwEAtlfm8VyoxZ9biWjDHb74gQ==  22.0  female      GB   2019-12-04   \n",
       "7976214  QEVuQwEAtlfm8VyoxZ9biWjDHb74gQ==  22.0  female      GB   2019-12-04   \n",
       "7976215  QEVuQwEAtlfm8VyoxZ9biWjDHb74gQ==  22.0  female      GB   2019-12-04   \n",
       "7976216  QEVuQwEAtlfm8VyoxZ9biWjDHb74gQ==  22.0  female      GB   2019-12-04   \n",
       "7976217  QEVuQwEAtlfm8VyoxZ9biWjDHb74gQ==  22.0  female      GB   2019-12-04   \n",
       "\n",
       "        trackable_id trackable_type            trackable_name trackable_value  \n",
       "65536            152        Symptom                    Nausea               1  \n",
       "65537            243        Symptom              Stomach Pain               3  \n",
       "65538            220      Condition  Chronic fatigue syndrome               3  \n",
       "65539            561      Condition  Irritable bowel syndrome               0  \n",
       "65540           1153      Condition              Dysautonomia               3  \n",
       "...              ...            ...                       ...             ...  \n",
       "7976213         3368        Symptom     difficulty getting up               4  \n",
       "7976214          153        Symptom                 Neck pain               2  \n",
       "7976215          242        Symptom                   Fatigue               3  \n",
       "7976216         1026        Symptom        Poor concentration               3  \n",
       "7976217        30924        Symptom         poor productivity               3  \n",
       "\n",
       "[2249607 rows x 9 columns]"
      ]
     },
     "execution_count": 9,
     "metadata": {},
     "output_type": "execute_result"
    }
   ],
   "source": [
    "df"
   ]
  },
  {
   "cell_type": "markdown",
   "metadata": {},
   "source": [
    "## Write to CSV"
   ]
  },
  {
   "cell_type": "code",
   "execution_count": 10,
   "metadata": {},
   "outputs": [],
   "source": [
    "df.to_csv('./assets/export_preprocessing.csv')\n"
   ]
  },
  {
   "cell_type": "markdown",
   "metadata": {},
   "source": [
    "## Experimentation"
   ]
  },
  {
   "cell_type": "code",
   "execution_count": 11,
   "metadata": {},
   "outputs": [
    {
     "data": {
      "text/plain": [
       "2249607"
      ]
     },
     "execution_count": 11,
     "metadata": {},
     "output_type": "execute_result"
    }
   ],
   "source": [
    "len(df.index)\n"
   ]
  },
  {
   "cell_type": "code",
   "execution_count": 12,
   "metadata": {},
   "outputs": [
    {
     "name": "stdout",
     "output_type": "stream",
     "text": [
      "[1384394, 390609, 159243, 138338, 24301, 20112, 16187, 15413, 12217, 9314, 7123, 6831, 6269, 5497, 5424, 3645, 3367, 3335, 3185, 2937, 2545, 2480, 2302, 2231, 2010, 1890, 1494, 1348, 1311, 1066, 1031, 1017, 976, 958, 859, 812, 776, 503, 496, 486, 480, 368, 305, 280, 278, 263, 249, 219, 199, 196, 178, 171, 168, 163, 156, 150, 142, 122, 112, 94, 82, 76, 71, 69, 54, 50, 49, 49, 46, 45, 40, 33, 31, 31, 26, 20, 20, 15, 15, 14, 11, 11, 11, 10, 9, 8, 7, 7, 7, 6, 6, 6, 5, 5, 4, 3, 3, 3, 3, 2, 2, 2, 2, 2, 2, 2, 1, 1, 1, 1, 1, 1, 1]\n"
     ]
    }
   ],
   "source": [
    "print(list(df['country'].value_counts()))"
   ]
  },
  {
   "cell_type": "code",
   "execution_count": 13,
   "metadata": {},
   "outputs": [
    {
     "name": "stdout",
     "output_type": "stream",
     "text": [
      "[103984, 97474, 88243, 85551, 83230, 81087, 80145, 80120, 78626, 78024, 63623, 61577, 59058, 57707, 56893, 55929, 55824, 53645, 53129, 49623, 49106, 46016, 45123, 45003, 44968, 44948, 44573, 42124, 40192, 38058, 35892, 29088, 27686, 25907, 25623, 23810, 22148, 20430, 18418, 17858, 15998, 15815, 14808, 14122, 12964, 10521, 8264, 8212, 6847, 6393, 5736, 3132, 2723, 2339, 2168, 1701, 1501, 1469, 1181, 1025, 500, 440, 325, 309, 268, 64, 61, 57, 54, 38, 26, 23, 18, 11, 11, 8, 6, 4, 1, 1]\n"
     ]
    }
   ],
   "source": [
    "print(list(df['age'].value_counts()))\n"
   ]
  },
  {
   "cell_type": "code",
   "execution_count": 14,
   "metadata": {},
   "outputs": [
    {
     "data": {
      "text/plain": [
       "2019-11-04    4318\n",
       "2019-03-05    4297\n",
       "2019-01-23    4242\n",
       "2019-11-06    4188\n",
       "2019-01-21    4179\n",
       "              ... \n",
       "2016-12-05      67\n",
       "2017-01-10      64\n",
       "2016-12-21      63\n",
       "2016-12-16      62\n",
       "2015-05-24      19\n",
       "Name: checkin_date, Length: 1658, dtype: int64"
      ]
     },
     "execution_count": 14,
     "metadata": {},
     "output_type": "execute_result"
    }
   ],
   "source": [
    "# print(list(df['checkin_date'].value_counts()))\n",
    "df['checkin_date'].value_counts()"
   ]
  },
  {
   "cell_type": "code",
   "execution_count": 15,
   "metadata": {},
   "outputs": [
    {
     "data": {
      "text/plain": [
       "242      44402\n",
       "98       41833\n",
       "152      36657\n",
       "275      27435\n",
       "121      25065\n",
       "         ...  \n",
       "33112        1\n",
       "26328        1\n",
       "26330        1\n",
       "22329        1\n",
       "30924        1\n",
       "Name: trackable_id, Length: 15325, dtype: int64"
      ]
     },
     "execution_count": 15,
     "metadata": {},
     "output_type": "execute_result"
    }
   ],
   "source": [
    "# print(list(df['trackable_id'].value_counts()))\n",
    "df['trackable_id'].value_counts()"
   ]
  },
  {
   "cell_type": "code",
   "execution_count": 16,
   "metadata": {},
   "outputs": [
    {
     "data": {
      "text/plain": [
       "15325"
      ]
     },
     "execution_count": 16,
     "metadata": {},
     "output_type": "execute_result"
    }
   ],
   "source": [
    "df['trackable_id'].nunique()"
   ]
  },
  {
   "cell_type": "code",
   "execution_count": 17,
   "metadata": {},
   "outputs": [
    {
     "data": {
      "text/plain": [
       "Symptom      1424414\n",
       "Condition     434134\n",
       "Treatment     391059\n",
       "Name: trackable_type, dtype: int64"
      ]
     },
     "execution_count": 17,
     "metadata": {},
     "output_type": "execute_result"
    }
   ],
   "source": [
    "df['trackable_type'].value_counts()"
   ]
  },
  {
   "cell_type": "code",
   "execution_count": 18,
   "metadata": {},
   "outputs": [
    {
     "data": {
      "text/html": [
       "<div>\n",
       "<style scoped>\n",
       "    .dataframe tbody tr th:only-of-type {\n",
       "        vertical-align: middle;\n",
       "    }\n",
       "\n",
       "    .dataframe tbody tr th {\n",
       "        vertical-align: top;\n",
       "    }\n",
       "\n",
       "    .dataframe thead th {\n",
       "        text-align: right;\n",
       "    }\n",
       "</style>\n",
       "<table border=\"1\" class=\"dataframe\">\n",
       "  <thead>\n",
       "    <tr style=\"text-align: right;\">\n",
       "      <th></th>\n",
       "      <th>user_id</th>\n",
       "      <th>age</th>\n",
       "      <th>sex</th>\n",
       "      <th>country</th>\n",
       "      <th>checkin_date</th>\n",
       "      <th>trackable_id</th>\n",
       "      <th>trackable_type</th>\n",
       "      <th>trackable_name</th>\n",
       "      <th>trackable_value</th>\n",
       "    </tr>\n",
       "  </thead>\n",
       "  <tbody>\n",
       "    <tr>\n",
       "      <th>0</th>\n",
       "      <td>QEVuQwEAlNMIH8RXhjZvx6HzoW8iXQ==</td>\n",
       "      <td>25.0</td>\n",
       "      <td>female</td>\n",
       "      <td>US</td>\n",
       "      <td>2019-11-04</td>\n",
       "      <td>242</td>\n",
       "      <td>Symptom</td>\n",
       "      <td>Fatigue</td>\n",
       "      <td>0</td>\n",
       "    </tr>\n",
       "  </tbody>\n",
       "</table>\n",
       "</div>"
      ],
      "text/plain": [
       "                            user_id   age     sex country checkin_date  \\\n",
       "0  QEVuQwEAlNMIH8RXhjZvx6HzoW8iXQ==  25.0  female      US   2019-11-04   \n",
       "\n",
       "  trackable_id trackable_type trackable_name trackable_value  \n",
       "0          242        Symptom        Fatigue               0  "
      ]
     },
     "execution_count": 18,
     "metadata": {},
     "output_type": "execute_result"
    }
   ],
   "source": [
    "df.mode()"
   ]
  },
  {
   "cell_type": "markdown",
   "metadata": {},
   "source": [
    "## Age Groups"
   ]
  },
  {
   "cell_type": "code",
   "execution_count": 19,
   "metadata": {},
   "outputs": [
    {
     "name": "stdout",
     "output_type": "stream",
     "text": [
      "1.0      1501\n",
      "2.0     10521\n",
      "3.0      1181\n",
      "4.0      5736\n",
      "5.0        11\n",
      "        ...  \n",
      "77.0       38\n",
      "79.0        4\n",
      "86.0        1\n",
      "98.0        8\n",
      "99.0      325\n",
      "Name: age, Length: 80, dtype: int64\n"
     ]
    }
   ],
   "source": [
    "df1 = df['age'].value_counts()\n",
    "df1.sort_index(ascending=True, inplace=True)\n",
    "print(df1)\n",
    "max_tid=max(df1)"
   ]
  },
  {
   "cell_type": "code",
   "execution_count": 20,
   "metadata": {},
   "outputs": [
    {
     "name": "stdout",
     "output_type": "stream",
     "text": [
      "[19  2  2  2  2  1  1  2  1  2  1  2  2  2  2  1  2  2  2  5  5 20]\n"
     ]
    }
   ],
   "source": [
    "Groups=[]\n",
    "temp=[]\n",
    "sum=0\n",
    "for a,b in df1.items():\n",
    "    if(sum+b>=max_tid):\n",
    "        if(max_tid-sum>=sum+b-max_tid):\n",
    "            temp.append(a)\n",
    "            Groups.append(temp)\n",
    "            sum=0\n",
    "            temp=[]\n",
    "        else:\n",
    "            Groups.append(temp)\n",
    "            sum = 0\n",
    "            temp = []\n",
    "            temp.append(a)\n",
    "            sum+=b\n",
    "    else:\n",
    "        temp.append(a)\n",
    "        sum+=b\n",
    "Groups.append(temp)\n",
    "GroupSize = np.array([len(i) for i in Groups])\n",
    "print(GroupSize)"
   ]
  },
  {
   "cell_type": "markdown",
   "metadata": {},
   "source": [
    "## Trackable ID groups"
   ]
  },
  {
   "cell_type": "code",
   "execution_count": 21,
   "metadata": {},
   "outputs": [
    {
     "name": "stdout",
     "output_type": "stream",
     "text": [
      "1        11086\n",
      "2         1719\n",
      "3          586\n",
      "4          111\n",
      "5          423\n",
      "         ...  \n",
      "37620        2\n",
      "37621        2\n",
      "37626        2\n",
      "37641        1\n",
      "37648        1\n",
      "Name: trackable_id, Length: 15325, dtype: int64\n"
     ]
    }
   ],
   "source": [
    "df1 = df['trackable_id'].value_counts()\n",
    "df1.sort_index(ascending=True, inplace=True)\n",
    "print(df1)\n",
    "max_tid=max(df1)"
   ]
  },
  {
   "cell_type": "code",
   "execution_count": 22,
   "metadata": {},
   "outputs": [
    {
     "name": "stdout",
     "output_type": "stream",
     "text": [
      "[  11   30   13    7   19   14    2   21   13   16    2   37   26   21\n",
      "    1   15   18   22   41   39   22   52   66   53   66   79  110  143\n",
      "  109   52  134  136  248  340  297  457  415  412  344  402  630  582\n",
      "  304  261  383  610 1029 1455 1365 1814 2165  422]\n"
     ]
    }
   ],
   "source": [
    "Groups = []\n",
    "temp = []\n",
    "sum = 0\n",
    "for a, b in df1.items():\n",
    "    if (sum+b >= max_tid):\n",
    "        if (max_tid-sum >= sum+b-max_tid):\n",
    "            temp.append(a)\n",
    "            Groups.append(temp)\n",
    "            sum = 0\n",
    "            temp = []\n",
    "        else:\n",
    "            Groups.append(temp)\n",
    "            sum = 0\n",
    "            temp = []\n",
    "            temp.append(a)\n",
    "            sum += b\n",
    "    else:\n",
    "        temp.append(a)\n",
    "        sum += b\n",
    "Groups.append(temp)\n",
    "GroupSize = np.array([len(i) for i in Groups])\n",
    "print(GroupSize)\n"
   ]
  },
  {
   "cell_type": "markdown",
   "metadata": {},
   "source": [
    "## Checking trackable id allocation"
   ]
  },
  {
   "cell_type": "code",
   "execution_count": 23,
   "metadata": {},
   "outputs": [
    {
     "name": "stdout",
     "output_type": "stream",
     "text": [
      "True\n"
     ]
    }
   ],
   "source": [
    "map={}\n",
    "flag=True\n",
    "for i in df.index:\n",
    "    if (df['trackable_id'][i] in map.keys() and not (df['user_id'][i] == map[df['trackable_id'][i]])):\n",
    "        flag=False\n",
    "        break\n",
    "print(flag)"
   ]
  }
 ],
 "metadata": {
  "kernelspec": {
   "display_name": "Python 3.10.8 64-bit",
   "language": "python",
   "name": "python3"
  },
  "language_info": {
   "codemirror_mode": {
    "name": "ipython",
    "version": 3
   },
   "file_extension": ".py",
   "mimetype": "text/x-python",
   "name": "python",
   "nbconvert_exporter": "python",
   "pygments_lexer": "ipython3",
   "version": "3.10.8"
  },
  "orig_nbformat": 4,
  "vscode": {
   "interpreter": {
    "hash": "916dbcbb3f70747c44a77c7bcd40155683ae19c65e1c03b4aa3499c5328201f1"
   }
  }
 },
 "nbformat": 4,
 "nbformat_minor": 2
}
